{
 "cells": [
  {
   "cell_type": "markdown",
   "metadata": {},
   "source": [
    "# Glass break model v0.0.1\n",
    "\n",
    "This notebook shows some examples of the operation of the different models. It also compares the performance\n",
    "over some test sets.\n",
    "\n",
    "## Definitions\n",
    "\n",
    "Functions for running the simulation engines such that we get detection traces."
   ]
  },
  {
   "cell_type": "code",
   "execution_count": 104,
   "metadata": {},
   "outputs": [],
   "source": [
    "% Definitions for running the engines\n",
    "\n",
    "function [detection_signal, audio_w_preroll] = ramp_sim_gb(x, Fs, version)\n",
    "    % ramp_sim_gb()\n",
    "    %   Arguments\n",
    "    %     x       - Input audio array `x` to run through a ramp_sim model\n",
    "    %     Fs      - Sampling frequency, typically 16ksps\n",
    "    %     version - The ending string of the ramp_sim model to use\n",
    "    %               Current options are:  v0.0.0.exe - for Windows\n",
    "    %                                     v0.0.1.exe - for Windows\n",
    "    %                                     v0.0.1     - for Linux\n",
    "    %   Outputs\n",
    "    %     detection_signal - Output detection array\n",
    "    %     audio_w_preroll  - Output audio array of detected audio \n",
    "    %                        w/ prepended preroll\n",
    "\n",
    "    % Default version\n",
    "    if nargin < 3\n",
    "        version = 'v0.0.0.exe';\n",
    "    end\n",
    "    \n",
    "    % The target ramp_sim binary\n",
    "    ramp_sim_bin = sprintf('../../bin/ramp_sim/ramp_sim_gb_%s', version);\n",
    "    \n",
    "    % Save signal to a temporary wav file, we will input this to the model\n",
    "    in_file = '.ramp_in.wav';\n",
    "    audiowrite(in_file, x, Fs);\n",
    "    out_file = '.ramp_out.wav';\n",
    "\n",
    "    % Form the command and run\n",
    "    cmd = sprintf('\"%s\" \"%s\" \"%s\"', ramp_sim_bin, in_file, out_file);\n",
    "    [success, stdout] = system(cmd);\n",
    "    \n",
    "    % Read the output wav file, which has the preroll-prepended audio\n",
    "    audio_w_preroll = audioread(out_file);\n",
    "    \n",
    "    % Parse the stdout to get the detection signal\n",
    "    % For some reason, Octave is not capturing the stdout on windows like Matlab did\n",
    "    triggersCell = regexp(stdout, 'Event trigger from ([.0-9]*)s to ([.0-9]*)s', 'tokens');\n",
    "    triggers = [];\n",
    "    for j = 1 : length(triggersCell)\n",
    "        triggers(j, 1) = str2num(triggersCell{j}{1});\n",
    "        triggers(j, 2) = str2num(triggersCell{j}{2});\n",
    "    end\n",
    "    t = (0 : length(x)-1) / Fs;\n",
    "    detection_signal = 1.0 * List2Detections(t, triggers);\n",
    "end\n",
    "\n",
    "\n",
    "function [detection_signal]=ias_sim_gb(x,Fs)\n",
    "    % ias_sim_gb()\n",
    "    %   Arguments\n",
    "    %     x       - Input audio array `x` to run through a ramp_sim model\n",
    "    %     Fs      - Sampling frequency, typically 16ksps\n",
    "    %   Outputs\n",
    "    %     detection_signal - Output detection array\n",
    "\n",
    "    \n",
    "    % The target ramp_sim binary\n",
    "    ias_sim_bin = '../../bin/ifx_ias_simulator_v0.3.1/ias_simulator_v031_20200716_08756ca';\n",
    "    \n",
    "    % Save signal to a temporary wav file, we will input this to the model\n",
    "    in_file = '.ias_in.wav';\n",
    "    audiowrite(in_file, x, Fs);\n",
    "\n",
    "    % Form the command and run\n",
    "    cmd = sprintf(' ''%s'' ''%s''', ias_sim_bin, in_file);\n",
    "    [success, stdout] = bashCall(cmd);\n",
    "    \n",
    "    % Parse the stdout to get the detection signal\n",
    "    % For some reason, Octave is not capturing the stdout on windows like Matlab did\n",
    "    triggersCell = regexp(stdout, 'at ([.0-9]*)s', 'tokens');\n",
    "    triggers = [];\n",
    "    for j = 1 : length(triggersCell)\n",
    "        triggers(j, 1) = str2num(triggersCell{j}{1});\n",
    "        triggers(j, 2) = triggers(j,1) + 0.1;\n",
    "    end\n",
    "    t = (0 : length(x)-1) / Fs;\n",
    "    detection_signal = 1.0 * List2Detections(t, triggers);\n",
    "end\n",
    "\n",
    "% Helper functions for extraction FAR, etc.\n",
    "function acc = EvaluateAccuracy(t,y,l)\n",
    "  acc = DETECT_PERFORMANCE();\n",
    "  [DetectTimes,LabelTimes,Durations]=ExtractDetects(t,y,l,0.5);\n",
    "  acc=ExtractDetectPerformance(DetectTimes,LabelTimes,Durations,acc);\n",
    "end"
   ]
  },
  {
   "cell_type": "markdown",
   "metadata": {},
   "source": [
    "## Short example\n",
    "\n",
    "This is an example of how to call the simulators from Octave and visualize the results. "
   ]
  },
  {
   "cell_type": "markdown",
   "metadata": {},
   "source": [
    "First run the file through the detectors.\n",
    "\n",
    "```\n",
    "     +----------+  ramp_detections\n",
    " x   |          |------------->\n",
    "---->| ramp_sim |  ramp_audio  +---------+\n",
    "     |          |------------->| ias_sim |--> ias_detections\n",
    "     +----------+              +---------+\n",
    "```"
   ]
  },
  {
   "cell_type": "code",
   "execution_count": 72,
   "metadata": {},
   "outputs": [],
   "source": [
    "[x, Fs] = audioread('../shell/test.wav');\n",
    "t = (0 : length(x)-1) / Fs;\n",
    "\n",
    "[ramp_detections_0, ramp_audio_0] = ramp_sim_gb(x, Fs, 'v0.0.0.exe');\n",
    "[ramp_detections_1, ramp_audio_1] = ramp_sim_gb(x, Fs, 'v0.0.1.exe');\n",
    "[ias_detections] = ias_sim_gb(ramp_audio_0, Fs);"
   ]
  },
  {
   "cell_type": "markdown",
   "metadata": {},
   "source": [
    "Now here is a zoomed out plot over the whole file. The traces are:\n",
    "\n",
    "  - _x_: The input glass break signal.\n",
    "  - _ramp\\_detections_: The RAMP's detection trigger of a glass break signal.\n",
    "  - _ramp\\_audio_: The detected audio w/ preroll prepended to it. This is the input to the IAS detector.\n",
    "  - _ias\\_detections_: The detections of the IAS simulator based on the RAMP's output audio.\n",
    "\n",
    "Notice how _ramp\\_detections_ starts soon after the start of the audio."
   ]
  },
  {
   "cell_type": "code",
   "execution_count": 76,
   "metadata": {},
   "outputs": [
    {
     "data": {
      "image/png": "[encoded data removed]",
      "text/plain": [
       "<IPython.core.display.Image object>"
      ]
     },
     "metadata": {},
     "output_type": "display_data"
    }
   ],
   "source": [
    "plot(t, x, ...\n",
    "     t, 0.08*ramp_detections_0, ...\n",
    "     t, 0.1*ramp_detections_1, ...\n",
    "     t, ramp_audio_1, ...\n",
    "     t, 0.12*ias_detections);\n",
    "xlabel('Time (s)');  ylim([-.1 .15])\n",
    "legend('x', 'ramp\\_detections\\_0', 'ramp\\_detections\\_1', 'ramp\\_audio\\_1', 'ias\\_detections','location','NorthWest');\n",
    "title('Short test file')"
   ]
  },
  {
   "cell_type": "markdown",
   "metadata": {},
   "source": [
    "If we zoom in on the start of the audio, we can see the output of captured of preroll prior to the detection. The detection is made within 10ms of the start of the audio. The time delay between _ramp\\_audio_ and _x_ is an artifact of the simulator."
   ]
  },
  {
   "cell_type": "code",
   "execution_count": 77,
   "metadata": {},
   "outputs": [
    {
     "data": {
      "image/png": "[encoded data removed]",
      "text/plain": [
       "<IPython.core.display.Image object>"
      ]
     },
     "metadata": {},
     "output_type": "display_data"
    }
   ],
   "source": [
    "% Repeat w/ zoom into detection to show latency\n",
    "plot(t, x, ...\n",
    "     t, 0.08*ramp_detections_0, ...\n",
    "     t, 0.1*ramp_detections_1, ...\n",
    "     t, ramp_audio_1);\n",
    "xlim([.98 1.05]); ylim([-.05 .15]); xlabel('Time (s)'); \n",
    "legend('x', 'ramp\\_detections\\_0', 'ramp\\_detections\\_1', 'ramp\\_audio\\_1');\n",
    "title('Zoomed in on detection region of short test file')"
   ]
  },
  {
   "cell_type": "markdown",
   "metadata": {},
   "source": [
    "## Mixed test file\n",
    "\n",
    "Now we'll run an example on a test file that has multiple glass break and noises at a variety of amplitudes. It also has noise mixed into the background of some glass break sounds.\n",
    "\n",
    "First let's run the file."
   ]
  },
  {
   "cell_type": "code",
   "execution_count": 89,
   "metadata": {},
   "outputs": [],
   "source": [
    "% Test clip\n",
    "[x, Fs] = audioread('../../data/GB_Clip_16000.wav');\n",
    "t = (0 : length(x)-1) / Fs;\n",
    "\n",
    "% And labels file\n",
    "label_start_stop = csvread('../../data/GB_Clip_label.csv');\n",
    "labels = 1.0 * List2Detections(t, label_start_stop);\n",
    "\n",
    "[ramp_detections_0, ramp_audio_0] = ramp_sim_gb(x, Fs, 'v0.0.0.exe');\n",
    "[ramp_detections_1, ramp_audio_1] = ramp_sim_gb(x, Fs, 'v0.0.1.exe');\n",
    "[ias_detections_0] = ias_sim_gb(ramp_audio_0, Fs);\n",
    "[ias_detections_1] = ias_sim_gb(ramp_audio_1, Fs);"
   ]
  },
  {
   "cell_type": "markdown",
   "metadata": {},
   "source": [
    "Now plot for the whole file."
   ]
  },
  {
   "cell_type": "code",
   "execution_count": 90,
   "metadata": {},
   "outputs": [
    {
     "data": {
      "image/png": "[encoded data removed]",
      "text/plain": [
       "<IPython.core.display.Image object>"
      ]
     },
     "metadata": {},
     "output_type": "display_data"
    }
   ],
   "source": [
    "n = 1:50:length(t); % downsampled indices given the length of the arrays\n",
    "\n",
    "subplot(3,1,1);\n",
    "plot(t(n), x(n), t(n),labels(n));\n",
    "xlabel('Time (s)');\n",
    "legend('x', 'labels', 'location', 'SouthEast');\n",
    "title('Full GB\\_Clip\\_16000.wav test file')\n",
    "\n",
    "subplot(3,1,2);\n",
    "plot(t(n), labels(n), t(n), 1.1*ramp_detections_0(n), t(n), 1.2*ias_detections_0(n));\n",
    "xlabel('Time (s)'); ylim([0 1.8]);\n",
    "legend('labels', 'ramp\\_detections\\_0', 'ias\\_detections\\_0');\n",
    "title('v0.0.0');\n",
    "\n",
    "subplot(3,1,3);\n",
    "plot(t(n), labels(n), t(n), 1.1*ramp_detections_1(n), t(n), 1.2*ias_detections_1(n));\n",
    "xlabel('Time (s)'); ylim([0 1.8]);\n",
    "legend('labels', 'ramp\\_detections\\_1', 'ias\\_detections\\_1');\n",
    "title('v0.0.1');"
   ]
  },
  {
   "cell_type": "markdown",
   "metadata": {},
   "source": [
    "And let's zoom in on a few regions."
   ]
  },
  {
   "cell_type": "code",
   "execution_count": 91,
   "metadata": {},
   "outputs": [
    {
     "data": {
      "image/png": "[encoded data removed]",
      "text/plain": [
       "<IPython.core.display.Image object>"
      ]
     },
     "metadata": {},
     "output_type": "display_data"
    }
   ],
   "source": [
    "n = find(t > 60 & t < 120);\n",
    "\n",
    "subplot(2,1,1);\n",
    "plot(t(n), labels(n), t(n), 1.1*ramp_detections_0(n), t(n), 1.2*ias_detections_0(n));\n",
    "xlabel('Time (s)'); ylim([0 1.8]);\n",
    "legend('labels', 'ramp\\_detections\\_0', 'ias\\_detections\\_0');\n",
    "title('v0.0.0');\n",
    "\n",
    "subplot(2,1,2);\n",
    "plot(t(n), labels(n), t(n), 1.1*ramp_detections_1(n), t(n), 1.2*ias_detections_1(n));\n",
    "xlabel('Time (s)'); ylim([0 1.8]);\n",
    "legend('labels', 'ramp\\_detections\\_1', 'ias\\_detections\\_1');\n",
    "title('v0.0.1');"
   ]
  },
  {
   "cell_type": "markdown",
   "metadata": {},
   "source": [
    "We can get the agregated results metrics as well."
   ]
  },
  {
   "cell_type": "code",
   "execution_count": 105,
   "metadata": {},
   "outputs": [
    {
     "name": "stdout",
     "output_type": "stream",
     "text": [
      "ramp_sim_0_accuracy =\n",
      "\n",
      "FAR (%): 38.1607; FRR (%): 17.5298\n",
      "# of false triggers: 26; Syllables missed (%): 0.02\n",
      "Average syllable latency (s): 0.080899\n",
      "\n",
      "ias_sim_0_accuracy =\n",
      "\n",
      "FAR (%): 1.955; FRR (%): 93.5858\n",
      "# of false triggers: 33; Syllables missed (%): 0.1\n",
      "Average syllable latency (s): 0.21761\n",
      "\n",
      "ramp_sim_1_accuracy =\n",
      "\n",
      "FAR (%): 4.7677; FRR (%): 86.3089\n",
      "# of false triggers: 31; Syllables missed (%): 0.2\n",
      "Average syllable latency (s): 0.033648\n",
      "\n",
      "ias_sim_1_accuracy =\n",
      "\n",
      "FAR (%): 0; FRR (%): 100\n",
      "# of false triggers: 0; Syllables missed (%): 1\n",
      "Average syllable latency (s): 1\n",
      "\n"
     ]
    }
   ],
   "source": [
    "ramp_sim_0_accuracy = EvaluateAccuracy(t, ramp_detections_0, labels)\n",
    "ias_sim_0_accuracy  = EvaluateAccuracy(t, ias_detections_0, labels)\n",
    "ramp_sim_1_accuracy = EvaluateAccuracy(t, ramp_detections_1, labels)\n",
    "ias_sim_1_accuracy  = EvaluateAccuracy(t, ias_detections_1, labels)"
   ]
  },
  {
   "cell_type": "markdown",
   "metadata": {},
   "source": [
    "## Larger Test Set Results\n",
    "\n",
    "Additionally, we have performed more detailed testing over a larger set of files with more glass break sounds, \n",
    "more noise sounds, and more combinations of SPL. The differences between the v0.0.0 model and the v0.0.1 model\n",
    "are summarized below.\n",
    "\n",
    "* _Detection rate over SPL_"
   ]
  },
  {
   "cell_type": "code",
   "execution_count": null,
   "metadata": {},
   "outputs": [],
   "source": [
    "  |        | 85dB | 90dB | 95dB | 100dB | 105dB | 110dB |\n",
    "  |--------|------|------|------|-------|-------|-------|\n",
    "  | v0.0.0 |      |      |      |       |       |       |\n",
    "  | v0.0.1 |      |      |      |       |       |       |"
   ]
  },
  {
   "cell_type": "markdown",
   "metadata": {},
   "source": [
    "* _Detection rate over SNR_"
   ]
  },
  {
   "cell_type": "code",
   "execution_count": null,
   "metadata": {},
   "outputs": [],
   "source": [
    "  |        | -5dB | 0dB | 5dB | 10dB |\n",
    "  |--------|------|-----|-----|------|\n",
    "  | v0.0.0 |      |     |     |      |\n",
    "  | v0.0.1 |      |     |     |      |"
   ]
  },
  {
   "cell_type": "markdown",
   "metadata": {},
   "source": [
    "* _Latency_"
   ]
  },
  {
   "cell_type": "code",
   "execution_count": null,
   "metadata": {},
   "outputs": [],
   "source": [
    "  |        | Mean | Max |\n",
    "  |--------|------|-----|\n",
    "  | v0.0.0 |      |     |\n",
    "  | v0.0.1 |      |     |"
   ]
  },
  {
   "cell_type": "markdown",
   "metadata": {},
   "source": [
    "* _False alarms per second over continuous background noise SPL_"
   ]
  },
  {
   "cell_type": "code",
   "execution_count": null,
   "metadata": {},
   "outputs": [],
   "source": [
    "  |        | 65dB | 70dB | 75dB | 80dB | 85dB | 90dB | 95dB |\n",
    "  |--------|------|------|------|------|------|------|------|\n",
    "  | v0.0.0 |      |      |      |      |      |      |      |\n",
    "  | v0.0.1 |      |      |      |      |      |      |      |"
   ]
  }
 ],
 "metadata": {
  "kernelspec": {
   "display_name": "Octave",
   "language": "octave",
   "name": "octave"
  },
  "language_info": {
   "file_extension": ".m",
   "help_links": [
    {
     "text": "GNU Octave",
     "url": "https://www.gnu.org/software/octave/support.html"
    },
    {
     "text": "Octave Kernel",
     "url": "https://github.com/Calysto/octave_kernel"
    },
    {
     "text": "MetaKernel Magics",
     "url": "https://metakernel.readthedocs.io/en/latest/source/README.html"
    }
   ],
   "mimetype": "text/x-octave",
   "name": "octave",
   "version": "5.1.0"
  }
 },
 "nbformat": 4,
 "nbformat_minor": 4
}
